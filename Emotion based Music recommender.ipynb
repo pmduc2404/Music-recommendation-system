{
 "cells": [
  {
   "cell_type": "code",
   "execution_count": 1,
   "metadata": {
    "id": "Y07rX5qojyDG"
   },
   "outputs": [],
   "source": [
    "import pandas as pd"
   ]
  },
  {
   "cell_type": "code",
   "execution_count": 3,
   "metadata": {
    "id": "Zv-d_MCYj_HD"
   },
   "outputs": [
    {
     "data": {
      "text/plain": [
       "Index(['acousticness', 'artists', 'danceability', 'duration_ms', 'energy',\n",
       "       'explicit', 'id', 'instrumentalness', 'key', 'liveness', 'loudness',\n",
       "       'mode', 'name', 'popularity', 'release_date', 'speechiness', 'tempo',\n",
       "       'valence', 'year'],\n",
       "      dtype='object')"
      ]
     },
     "execution_count": 3,
     "metadata": {},
     "output_type": "execute_result"
    }
   ],
   "source": [
    "data=pd.read_csv(r'C:\\Users\\Admin\\Desktop\\Desktop\\Music-recommendation-system\\Spotify Dataset Analysis\\data.csv.zip',compression='zip')\n",
    "data.columns"
   ]
  },
  {
   "cell_type": "code",
   "execution_count": 4,
   "metadata": {},
   "outputs": [
    {
     "data": {
      "text/html": [
       "<div>\n",
       "<style scoped>\n",
       "    .dataframe tbody tr th:only-of-type {\n",
       "        vertical-align: middle;\n",
       "    }\n",
       "\n",
       "    .dataframe tbody tr th {\n",
       "        vertical-align: top;\n",
       "    }\n",
       "\n",
       "    .dataframe thead th {\n",
       "        text-align: right;\n",
       "    }\n",
       "</style>\n",
       "<table border=\"1\" class=\"dataframe\">\n",
       "  <thead>\n",
       "    <tr style=\"text-align: right;\">\n",
       "      <th></th>\n",
       "      <th>acousticness</th>\n",
       "      <th>artists</th>\n",
       "      <th>danceability</th>\n",
       "      <th>duration_ms</th>\n",
       "      <th>energy</th>\n",
       "      <th>explicit</th>\n",
       "      <th>id</th>\n",
       "      <th>instrumentalness</th>\n",
       "      <th>key</th>\n",
       "      <th>liveness</th>\n",
       "      <th>loudness</th>\n",
       "      <th>mode</th>\n",
       "      <th>name</th>\n",
       "      <th>popularity</th>\n",
       "      <th>release_date</th>\n",
       "      <th>speechiness</th>\n",
       "      <th>tempo</th>\n",
       "      <th>valence</th>\n",
       "      <th>year</th>\n",
       "    </tr>\n",
       "  </thead>\n",
       "  <tbody>\n",
       "    <tr>\n",
       "      <th>0</th>\n",
       "      <td>0.995</td>\n",
       "      <td>['Carl Woitschach']</td>\n",
       "      <td>0.708</td>\n",
       "      <td>158648</td>\n",
       "      <td>0.1950</td>\n",
       "      <td>0</td>\n",
       "      <td>6KbQ3uYMLKb5jDxLF7wYDD</td>\n",
       "      <td>0.563</td>\n",
       "      <td>10</td>\n",
       "      <td>0.1510</td>\n",
       "      <td>-12.428</td>\n",
       "      <td>1</td>\n",
       "      <td>Singende Bataillone 1. Teil</td>\n",
       "      <td>0</td>\n",
       "      <td>1928</td>\n",
       "      <td>0.0506</td>\n",
       "      <td>118.469</td>\n",
       "      <td>0.7790</td>\n",
       "      <td>1928</td>\n",
       "    </tr>\n",
       "    <tr>\n",
       "      <th>1</th>\n",
       "      <td>0.994</td>\n",
       "      <td>['Robert Schumann', 'Vladimir Horowitz']</td>\n",
       "      <td>0.379</td>\n",
       "      <td>282133</td>\n",
       "      <td>0.0135</td>\n",
       "      <td>0</td>\n",
       "      <td>6KuQTIu1KoTTkLXKrwlLPV</td>\n",
       "      <td>0.901</td>\n",
       "      <td>8</td>\n",
       "      <td>0.0763</td>\n",
       "      <td>-28.454</td>\n",
       "      <td>1</td>\n",
       "      <td>Fantasiestücke, Op. 111: Più tosto lento</td>\n",
       "      <td>0</td>\n",
       "      <td>1928</td>\n",
       "      <td>0.0462</td>\n",
       "      <td>83.972</td>\n",
       "      <td>0.0767</td>\n",
       "      <td>1928</td>\n",
       "    </tr>\n",
       "    <tr>\n",
       "      <th>2</th>\n",
       "      <td>0.604</td>\n",
       "      <td>['Seweryn Goszczyński']</td>\n",
       "      <td>0.749</td>\n",
       "      <td>104300</td>\n",
       "      <td>0.2200</td>\n",
       "      <td>0</td>\n",
       "      <td>6L63VW0PibdM1HDSBoqnoM</td>\n",
       "      <td>0.000</td>\n",
       "      <td>5</td>\n",
       "      <td>0.1190</td>\n",
       "      <td>-19.924</td>\n",
       "      <td>0</td>\n",
       "      <td>Chapter 1.18 - Zamek kaniowski</td>\n",
       "      <td>0</td>\n",
       "      <td>1928</td>\n",
       "      <td>0.9290</td>\n",
       "      <td>107.177</td>\n",
       "      <td>0.8800</td>\n",
       "      <td>1928</td>\n",
       "    </tr>\n",
       "    <tr>\n",
       "      <th>3</th>\n",
       "      <td>0.995</td>\n",
       "      <td>['Francisco Canaro']</td>\n",
       "      <td>0.781</td>\n",
       "      <td>180760</td>\n",
       "      <td>0.1300</td>\n",
       "      <td>0</td>\n",
       "      <td>6M94FkXd15sOAOQYRnWPN8</td>\n",
       "      <td>0.887</td>\n",
       "      <td>1</td>\n",
       "      <td>0.1110</td>\n",
       "      <td>-14.734</td>\n",
       "      <td>0</td>\n",
       "      <td>Bebamos Juntos - Instrumental (Remasterizado)</td>\n",
       "      <td>0</td>\n",
       "      <td>1928-09-25</td>\n",
       "      <td>0.0926</td>\n",
       "      <td>108.003</td>\n",
       "      <td>0.7200</td>\n",
       "      <td>1928</td>\n",
       "    </tr>\n",
       "    <tr>\n",
       "      <th>4</th>\n",
       "      <td>0.990</td>\n",
       "      <td>['Frédéric Chopin', 'Vladimir Horowitz']</td>\n",
       "      <td>0.210</td>\n",
       "      <td>687733</td>\n",
       "      <td>0.2040</td>\n",
       "      <td>0</td>\n",
       "      <td>6N6tiFZ9vLTSOIxkj8qKrd</td>\n",
       "      <td>0.908</td>\n",
       "      <td>11</td>\n",
       "      <td>0.0980</td>\n",
       "      <td>-16.829</td>\n",
       "      <td>1</td>\n",
       "      <td>Polonaise-Fantaisie in A-Flat Major, Op. 61</td>\n",
       "      <td>1</td>\n",
       "      <td>1928</td>\n",
       "      <td>0.0424</td>\n",
       "      <td>62.149</td>\n",
       "      <td>0.0693</td>\n",
       "      <td>1928</td>\n",
       "    </tr>\n",
       "  </tbody>\n",
       "</table>\n",
       "</div>"
      ],
      "text/plain": [
       "   acousticness                                   artists  danceability  \\\n",
       "0         0.995                       ['Carl Woitschach']         0.708   \n",
       "1         0.994  ['Robert Schumann', 'Vladimir Horowitz']         0.379   \n",
       "2         0.604                   ['Seweryn Goszczyński']         0.749   \n",
       "3         0.995                      ['Francisco Canaro']         0.781   \n",
       "4         0.990  ['Frédéric Chopin', 'Vladimir Horowitz']         0.210   \n",
       "\n",
       "   duration_ms  energy  explicit                      id  instrumentalness  \\\n",
       "0       158648  0.1950         0  6KbQ3uYMLKb5jDxLF7wYDD             0.563   \n",
       "1       282133  0.0135         0  6KuQTIu1KoTTkLXKrwlLPV             0.901   \n",
       "2       104300  0.2200         0  6L63VW0PibdM1HDSBoqnoM             0.000   \n",
       "3       180760  0.1300         0  6M94FkXd15sOAOQYRnWPN8             0.887   \n",
       "4       687733  0.2040         0  6N6tiFZ9vLTSOIxkj8qKrd             0.908   \n",
       "\n",
       "   key  liveness  loudness  mode  \\\n",
       "0   10    0.1510   -12.428     1   \n",
       "1    8    0.0763   -28.454     1   \n",
       "2    5    0.1190   -19.924     0   \n",
       "3    1    0.1110   -14.734     0   \n",
       "4   11    0.0980   -16.829     1   \n",
       "\n",
       "                                            name  popularity release_date  \\\n",
       "0                    Singende Bataillone 1. Teil           0         1928   \n",
       "1       Fantasiestücke, Op. 111: Più tosto lento           0         1928   \n",
       "2                 Chapter 1.18 - Zamek kaniowski           0         1928   \n",
       "3  Bebamos Juntos - Instrumental (Remasterizado)           0   1928-09-25   \n",
       "4    Polonaise-Fantaisie in A-Flat Major, Op. 61           1         1928   \n",
       "\n",
       "   speechiness    tempo  valence  year  \n",
       "0       0.0506  118.469   0.7790  1928  \n",
       "1       0.0462   83.972   0.0767  1928  \n",
       "2       0.9290  107.177   0.8800  1928  \n",
       "3       0.0926  108.003   0.7200  1928  \n",
       "4       0.0424   62.149   0.0693  1928  "
      ]
     },
     "execution_count": 4,
     "metadata": {},
     "output_type": "execute_result"
    }
   ],
   "source": [
    "data.head(5)"
   ]
  },
  {
   "cell_type": "code",
   "execution_count": 3,
   "metadata": {
    "id": "uquiLJiSkP1i"
   },
   "outputs": [],
   "source": [
    "data.drop_duplicates(inplace=True,subset=['name'])"
   ]
  },
  {
   "cell_type": "code",
   "execution_count": 4,
   "metadata": {
    "id": "_QE5-Z9VK_on"
   },
   "outputs": [],
   "source": [
    "name=data['name']"
   ]
  },
  {
   "cell_type": "code",
   "execution_count": 5,
   "metadata": {
    "id": "1_KHyoq0kQ7i"
   },
   "outputs": [],
   "source": [
    "from sklearn.cluster import KMeans\n",
    "from sklearn.preprocessing import MinMaxScaler"
   ]
  },
  {
   "cell_type": "code",
   "execution_count": 6,
   "metadata": {
    "id": "Im9wkNs7kXfJ"
   },
   "outputs": [],
   "source": [
    "col_features = ['danceability', 'energy', 'valence', 'loudness']\n",
    "X = MinMaxScaler().fit_transform(data[col_features])\n",
    "kmeans = KMeans(init=\"k-means++\",\n",
    "                n_clusters=2,\n",
    "                random_state=15).fit(X)\n",
    "data['kmeans'] = kmeans.labels_"
   ]
  },
  {
   "cell_type": "code",
   "execution_count": 7,
   "metadata": {
    "id": "JQAXWkX_KvTE"
   },
   "outputs": [],
   "source": [
    "data['song_name']=name"
   ]
  },
  {
   "cell_type": "code",
   "execution_count": 8,
   "metadata": {
    "colab": {
     "base_uri": "https://localhost:8080/",
     "height": 623
    },
    "id": "acbgUfzDQIgp",
    "outputId": "21faa441-20a3-4895-f45c-1a96daa8e1cc"
   },
   "outputs": [
    {
     "data": {
      "text/html": [
       "<div>\n",
       "<style scoped>\n",
       "    .dataframe tbody tr th:only-of-type {\n",
       "        vertical-align: middle;\n",
       "    }\n",
       "\n",
       "    .dataframe tbody tr th {\n",
       "        vertical-align: top;\n",
       "    }\n",
       "\n",
       "    .dataframe thead th {\n",
       "        text-align: right;\n",
       "    }\n",
       "</style>\n",
       "<table border=\"1\" class=\"dataframe\">\n",
       "  <thead>\n",
       "    <tr style=\"text-align: right;\">\n",
       "      <th></th>\n",
       "      <th>acousticness</th>\n",
       "      <th>artists</th>\n",
       "      <th>danceability</th>\n",
       "      <th>duration_ms</th>\n",
       "      <th>energy</th>\n",
       "      <th>explicit</th>\n",
       "      <th>id</th>\n",
       "      <th>instrumentalness</th>\n",
       "      <th>key</th>\n",
       "      <th>liveness</th>\n",
       "      <th>...</th>\n",
       "      <th>mode</th>\n",
       "      <th>name</th>\n",
       "      <th>popularity</th>\n",
       "      <th>release_date</th>\n",
       "      <th>speechiness</th>\n",
       "      <th>tempo</th>\n",
       "      <th>valence</th>\n",
       "      <th>year</th>\n",
       "      <th>kmeans</th>\n",
       "      <th>song_name</th>\n",
       "    </tr>\n",
       "  </thead>\n",
       "  <tbody>\n",
       "    <tr>\n",
       "      <th>0</th>\n",
       "      <td>0.9950</td>\n",
       "      <td>['Carl Woitschach']</td>\n",
       "      <td>0.708</td>\n",
       "      <td>158648</td>\n",
       "      <td>0.1950</td>\n",
       "      <td>0</td>\n",
       "      <td>6KbQ3uYMLKb5jDxLF7wYDD</td>\n",
       "      <td>0.563000</td>\n",
       "      <td>10</td>\n",
       "      <td>0.1510</td>\n",
       "      <td>...</td>\n",
       "      <td>1</td>\n",
       "      <td>Singende Bataillone 1. Teil</td>\n",
       "      <td>0</td>\n",
       "      <td>1928</td>\n",
       "      <td>0.0506</td>\n",
       "      <td>118.469</td>\n",
       "      <td>0.7790</td>\n",
       "      <td>1928</td>\n",
       "      <td>0</td>\n",
       "      <td>Singende Bataillone 1. Teil</td>\n",
       "    </tr>\n",
       "    <tr>\n",
       "      <th>1</th>\n",
       "      <td>0.9940</td>\n",
       "      <td>['Robert Schumann', 'Vladimir Horowitz']</td>\n",
       "      <td>0.379</td>\n",
       "      <td>282133</td>\n",
       "      <td>0.0135</td>\n",
       "      <td>0</td>\n",
       "      <td>6KuQTIu1KoTTkLXKrwlLPV</td>\n",
       "      <td>0.901000</td>\n",
       "      <td>8</td>\n",
       "      <td>0.0763</td>\n",
       "      <td>...</td>\n",
       "      <td>1</td>\n",
       "      <td>Fantasiestücke, Op. 111: Più tosto lento</td>\n",
       "      <td>0</td>\n",
       "      <td>1928</td>\n",
       "      <td>0.0462</td>\n",
       "      <td>83.972</td>\n",
       "      <td>0.0767</td>\n",
       "      <td>1928</td>\n",
       "      <td>1</td>\n",
       "      <td>Fantasiestücke, Op. 111: Più tosto lento</td>\n",
       "    </tr>\n",
       "    <tr>\n",
       "      <th>2</th>\n",
       "      <td>0.6040</td>\n",
       "      <td>['Seweryn Goszczyński']</td>\n",
       "      <td>0.749</td>\n",
       "      <td>104300</td>\n",
       "      <td>0.2200</td>\n",
       "      <td>0</td>\n",
       "      <td>6L63VW0PibdM1HDSBoqnoM</td>\n",
       "      <td>0.000000</td>\n",
       "      <td>5</td>\n",
       "      <td>0.1190</td>\n",
       "      <td>...</td>\n",
       "      <td>0</td>\n",
       "      <td>Chapter 1.18 - Zamek kaniowski</td>\n",
       "      <td>0</td>\n",
       "      <td>1928</td>\n",
       "      <td>0.9290</td>\n",
       "      <td>107.177</td>\n",
       "      <td>0.8800</td>\n",
       "      <td>1928</td>\n",
       "      <td>0</td>\n",
       "      <td>Chapter 1.18 - Zamek kaniowski</td>\n",
       "    </tr>\n",
       "    <tr>\n",
       "      <th>3</th>\n",
       "      <td>0.9950</td>\n",
       "      <td>['Francisco Canaro']</td>\n",
       "      <td>0.781</td>\n",
       "      <td>180760</td>\n",
       "      <td>0.1300</td>\n",
       "      <td>0</td>\n",
       "      <td>6M94FkXd15sOAOQYRnWPN8</td>\n",
       "      <td>0.887000</td>\n",
       "      <td>1</td>\n",
       "      <td>0.1110</td>\n",
       "      <td>...</td>\n",
       "      <td>0</td>\n",
       "      <td>Bebamos Juntos - Instrumental (Remasterizado)</td>\n",
       "      <td>0</td>\n",
       "      <td>1928-09-25</td>\n",
       "      <td>0.0926</td>\n",
       "      <td>108.003</td>\n",
       "      <td>0.7200</td>\n",
       "      <td>1928</td>\n",
       "      <td>1</td>\n",
       "      <td>Bebamos Juntos - Instrumental (Remasterizado)</td>\n",
       "    </tr>\n",
       "    <tr>\n",
       "      <th>4</th>\n",
       "      <td>0.9900</td>\n",
       "      <td>['Frédéric Chopin', 'Vladimir Horowitz']</td>\n",
       "      <td>0.210</td>\n",
       "      <td>687733</td>\n",
       "      <td>0.2040</td>\n",
       "      <td>0</td>\n",
       "      <td>6N6tiFZ9vLTSOIxkj8qKrd</td>\n",
       "      <td>0.908000</td>\n",
       "      <td>11</td>\n",
       "      <td>0.0980</td>\n",
       "      <td>...</td>\n",
       "      <td>1</td>\n",
       "      <td>Polonaise-Fantaisie in A-Flat Major, Op. 61</td>\n",
       "      <td>1</td>\n",
       "      <td>1928</td>\n",
       "      <td>0.0424</td>\n",
       "      <td>62.149</td>\n",
       "      <td>0.0693</td>\n",
       "      <td>1928</td>\n",
       "      <td>1</td>\n",
       "      <td>Polonaise-Fantaisie in A-Flat Major, Op. 61</td>\n",
       "    </tr>\n",
       "    <tr>\n",
       "      <th>...</th>\n",
       "      <td>...</td>\n",
       "      <td>...</td>\n",
       "      <td>...</td>\n",
       "      <td>...</td>\n",
       "      <td>...</td>\n",
       "      <td>...</td>\n",
       "      <td>...</td>\n",
       "      <td>...</td>\n",
       "      <td>...</td>\n",
       "      <td>...</td>\n",
       "      <td>...</td>\n",
       "      <td>...</td>\n",
       "      <td>...</td>\n",
       "      <td>...</td>\n",
       "      <td>...</td>\n",
       "      <td>...</td>\n",
       "      <td>...</td>\n",
       "      <td>...</td>\n",
       "      <td>...</td>\n",
       "      <td>...</td>\n",
       "      <td>...</td>\n",
       "    </tr>\n",
       "    <tr>\n",
       "      <th>169901</th>\n",
       "      <td>0.2640</td>\n",
       "      <td>['Meek Mill', 'Roddy Ricch']</td>\n",
       "      <td>0.744</td>\n",
       "      <td>167845</td>\n",
       "      <td>0.7020</td>\n",
       "      <td>1</td>\n",
       "      <td>0j2CNrgtalXRGIvHMO2vzh</td>\n",
       "      <td>0.000000</td>\n",
       "      <td>7</td>\n",
       "      <td>0.1200</td>\n",
       "      <td>...</td>\n",
       "      <td>0</td>\n",
       "      <td>Letter To Nipsey (feat. Roddy Ricch)</td>\n",
       "      <td>66</td>\n",
       "      <td>2020-01-27</td>\n",
       "      <td>0.2880</td>\n",
       "      <td>91.885</td>\n",
       "      <td>0.3380</td>\n",
       "      <td>2020</td>\n",
       "      <td>0</td>\n",
       "      <td>Letter To Nipsey (feat. Roddy Ricch)</td>\n",
       "    </tr>\n",
       "    <tr>\n",
       "      <th>169903</th>\n",
       "      <td>0.2100</td>\n",
       "      <td>['LEGADO 7', 'Junior H']</td>\n",
       "      <td>0.795</td>\n",
       "      <td>218501</td>\n",
       "      <td>0.5850</td>\n",
       "      <td>0</td>\n",
       "      <td>52Cpyvd2dKb6XRn313nH87</td>\n",
       "      <td>0.000001</td>\n",
       "      <td>8</td>\n",
       "      <td>0.1120</td>\n",
       "      <td>...</td>\n",
       "      <td>1</td>\n",
       "      <td>Ojos De Maniaco</td>\n",
       "      <td>68</td>\n",
       "      <td>2020-02-28</td>\n",
       "      <td>0.0374</td>\n",
       "      <td>97.479</td>\n",
       "      <td>0.9340</td>\n",
       "      <td>2020</td>\n",
       "      <td>0</td>\n",
       "      <td>Ojos De Maniaco</td>\n",
       "    </tr>\n",
       "    <tr>\n",
       "      <th>169904</th>\n",
       "      <td>0.1730</td>\n",
       "      <td>['DripReport', 'Tyga']</td>\n",
       "      <td>0.875</td>\n",
       "      <td>163800</td>\n",
       "      <td>0.4430</td>\n",
       "      <td>1</td>\n",
       "      <td>4KppkflX7I3vJQk7urOJaS</td>\n",
       "      <td>0.000032</td>\n",
       "      <td>1</td>\n",
       "      <td>0.0891</td>\n",
       "      <td>...</td>\n",
       "      <td>1</td>\n",
       "      <td>Skechers (feat. Tyga) - Remix</td>\n",
       "      <td>75</td>\n",
       "      <td>2020-05-15</td>\n",
       "      <td>0.1430</td>\n",
       "      <td>100.012</td>\n",
       "      <td>0.3060</td>\n",
       "      <td>2020</td>\n",
       "      <td>1</td>\n",
       "      <td>Skechers (feat. Tyga) - Remix</td>\n",
       "    </tr>\n",
       "    <tr>\n",
       "      <th>169905</th>\n",
       "      <td>0.0167</td>\n",
       "      <td>['Leon Bridges', 'Terrace Martin']</td>\n",
       "      <td>0.719</td>\n",
       "      <td>167468</td>\n",
       "      <td>0.3850</td>\n",
       "      <td>0</td>\n",
       "      <td>1ehhGlTvjtHo2e4xJFB0SZ</td>\n",
       "      <td>0.031300</td>\n",
       "      <td>8</td>\n",
       "      <td>0.1110</td>\n",
       "      <td>...</td>\n",
       "      <td>1</td>\n",
       "      <td>Sweeter (feat. Terrace Martin)</td>\n",
       "      <td>64</td>\n",
       "      <td>2020-06-08</td>\n",
       "      <td>0.0403</td>\n",
       "      <td>128.000</td>\n",
       "      <td>0.2700</td>\n",
       "      <td>2020</td>\n",
       "      <td>1</td>\n",
       "      <td>Sweeter (feat. Terrace Martin)</td>\n",
       "    </tr>\n",
       "    <tr>\n",
       "      <th>169906</th>\n",
       "      <td>0.5380</td>\n",
       "      <td>['Kygo', 'Oh Wonder']</td>\n",
       "      <td>0.514</td>\n",
       "      <td>180700</td>\n",
       "      <td>0.5390</td>\n",
       "      <td>0</td>\n",
       "      <td>52eycxprLhK3lPcRLbQiVk</td>\n",
       "      <td>0.002330</td>\n",
       "      <td>7</td>\n",
       "      <td>0.1080</td>\n",
       "      <td>...</td>\n",
       "      <td>1</td>\n",
       "      <td>How Would I Know</td>\n",
       "      <td>70</td>\n",
       "      <td>2020-05-29</td>\n",
       "      <td>0.1050</td>\n",
       "      <td>123.700</td>\n",
       "      <td>0.1530</td>\n",
       "      <td>2020</td>\n",
       "      <td>1</td>\n",
       "      <td>How Would I Know</td>\n",
       "    </tr>\n",
       "  </tbody>\n",
       "</table>\n",
       "<p>132940 rows × 21 columns</p>\n",
       "</div>"
      ],
      "text/plain": [
       "        acousticness                                   artists  danceability  \\\n",
       "0             0.9950                       ['Carl Woitschach']         0.708   \n",
       "1             0.9940  ['Robert Schumann', 'Vladimir Horowitz']         0.379   \n",
       "2             0.6040                   ['Seweryn Goszczyński']         0.749   \n",
       "3             0.9950                      ['Francisco Canaro']         0.781   \n",
       "4             0.9900  ['Frédéric Chopin', 'Vladimir Horowitz']         0.210   \n",
       "...              ...                                       ...           ...   \n",
       "169901        0.2640              ['Meek Mill', 'Roddy Ricch']         0.744   \n",
       "169903        0.2100                  ['LEGADO 7', 'Junior H']         0.795   \n",
       "169904        0.1730                    ['DripReport', 'Tyga']         0.875   \n",
       "169905        0.0167        ['Leon Bridges', 'Terrace Martin']         0.719   \n",
       "169906        0.5380                     ['Kygo', 'Oh Wonder']         0.514   \n",
       "\n",
       "        duration_ms  energy  explicit                      id  \\\n",
       "0            158648  0.1950         0  6KbQ3uYMLKb5jDxLF7wYDD   \n",
       "1            282133  0.0135         0  6KuQTIu1KoTTkLXKrwlLPV   \n",
       "2            104300  0.2200         0  6L63VW0PibdM1HDSBoqnoM   \n",
       "3            180760  0.1300         0  6M94FkXd15sOAOQYRnWPN8   \n",
       "4            687733  0.2040         0  6N6tiFZ9vLTSOIxkj8qKrd   \n",
       "...             ...     ...       ...                     ...   \n",
       "169901       167845  0.7020         1  0j2CNrgtalXRGIvHMO2vzh   \n",
       "169903       218501  0.5850         0  52Cpyvd2dKb6XRn313nH87   \n",
       "169904       163800  0.4430         1  4KppkflX7I3vJQk7urOJaS   \n",
       "169905       167468  0.3850         0  1ehhGlTvjtHo2e4xJFB0SZ   \n",
       "169906       180700  0.5390         0  52eycxprLhK3lPcRLbQiVk   \n",
       "\n",
       "        instrumentalness  key  liveness  ...  mode  \\\n",
       "0               0.563000   10    0.1510  ...     1   \n",
       "1               0.901000    8    0.0763  ...     1   \n",
       "2               0.000000    5    0.1190  ...     0   \n",
       "3               0.887000    1    0.1110  ...     0   \n",
       "4               0.908000   11    0.0980  ...     1   \n",
       "...                  ...  ...       ...  ...   ...   \n",
       "169901          0.000000    7    0.1200  ...     0   \n",
       "169903          0.000001    8    0.1120  ...     1   \n",
       "169904          0.000032    1    0.0891  ...     1   \n",
       "169905          0.031300    8    0.1110  ...     1   \n",
       "169906          0.002330    7    0.1080  ...     1   \n",
       "\n",
       "                                                 name popularity  \\\n",
       "0                         Singende Bataillone 1. Teil          0   \n",
       "1            Fantasiestücke, Op. 111: Più tosto lento          0   \n",
       "2                      Chapter 1.18 - Zamek kaniowski          0   \n",
       "3       Bebamos Juntos - Instrumental (Remasterizado)          0   \n",
       "4         Polonaise-Fantaisie in A-Flat Major, Op. 61          1   \n",
       "...                                               ...        ...   \n",
       "169901           Letter To Nipsey (feat. Roddy Ricch)         66   \n",
       "169903                                Ojos De Maniaco         68   \n",
       "169904                  Skechers (feat. Tyga) - Remix         75   \n",
       "169905                 Sweeter (feat. Terrace Martin)         64   \n",
       "169906                               How Would I Know         70   \n",
       "\n",
       "        release_date speechiness    tempo  valence  year  kmeans  \\\n",
       "0               1928      0.0506  118.469   0.7790  1928       0   \n",
       "1               1928      0.0462   83.972   0.0767  1928       1   \n",
       "2               1928      0.9290  107.177   0.8800  1928       0   \n",
       "3         1928-09-25      0.0926  108.003   0.7200  1928       1   \n",
       "4               1928      0.0424   62.149   0.0693  1928       1   \n",
       "...              ...         ...      ...      ...   ...     ...   \n",
       "169901    2020-01-27      0.2880   91.885   0.3380  2020       0   \n",
       "169903    2020-02-28      0.0374   97.479   0.9340  2020       0   \n",
       "169904    2020-05-15      0.1430  100.012   0.3060  2020       1   \n",
       "169905    2020-06-08      0.0403  128.000   0.2700  2020       1   \n",
       "169906    2020-05-29      0.1050  123.700   0.1530  2020       1   \n",
       "\n",
       "                                            song_name  \n",
       "0                         Singende Bataillone 1. Teil  \n",
       "1            Fantasiestücke, Op. 111: Più tosto lento  \n",
       "2                      Chapter 1.18 - Zamek kaniowski  \n",
       "3       Bebamos Juntos - Instrumental (Remasterizado)  \n",
       "4         Polonaise-Fantaisie in A-Flat Major, Op. 61  \n",
       "...                                               ...  \n",
       "169901           Letter To Nipsey (feat. Roddy Ricch)  \n",
       "169903                                Ojos De Maniaco  \n",
       "169904                  Skechers (feat. Tyga) - Remix  \n",
       "169905                 Sweeter (feat. Terrace Martin)  \n",
       "169906                               How Would I Know  \n",
       "\n",
       "[132940 rows x 21 columns]"
      ]
     },
     "execution_count": 8,
     "metadata": {},
     "output_type": "execute_result"
    }
   ],
   "source": [
    "data"
   ]
  },
  {
   "cell_type": "code",
   "execution_count": 9,
   "metadata": {
    "id": "iTRkAs8AkdzD"
   },
   "outputs": [],
   "source": [
    "cluster=data.groupby(by=data['kmeans'])"
   ]
  },
  {
   "cell_type": "code",
   "execution_count": 10,
   "metadata": {
    "id": "aPYcUVwvnFwM"
   },
   "outputs": [],
   "source": [
    "y=data.pop('kmeans')\n",
    "x=data.drop(columns=['name','artists','id','release_date','song_name'])\n"
   ]
  },
  {
   "cell_type": "code",
   "execution_count": 11,
   "metadata": {
    "id": "9O1CvTVyl_8o"
   },
   "outputs": [],
   "source": [
    "from sklearn.model_selection import train_test_split\n",
    "x_train,x_test,y_train,y_test=train_test_split(x,y,test_size=0.25)"
   ]
  },
  {
   "cell_type": "code",
   "execution_count": 12,
   "metadata": {
    "id": "p0K6y_lFnnAS"
   },
   "outputs": [
    {
     "name": "stdout",
     "output_type": "stream",
     "text": [
      "Requirement already satisfied: lightgbm in c:\\users\\shreyas\\anaconda3\\envs\\mytensorflow\\lib\\site-packages (3.0.0)\n",
      "Requirement already satisfied: scikit-learn!=0.22.0 in c:\\users\\shreyas\\anaconda3\\envs\\mytensorflow\\lib\\site-packages (from lightgbm) (0.23.1)\n",
      "Requirement already satisfied: scipy in c:\\users\\shreyas\\anaconda3\\envs\\mytensorflow\\lib\\site-packages (from lightgbm) (1.5.0)\n",
      "Requirement already satisfied: numpy in c:\\users\\shreyas\\anaconda3\\envs\\mytensorflow\\lib\\site-packages (from lightgbm) (1.18.5)\n",
      "Requirement already satisfied: joblib>=0.11 in c:\\users\\shreyas\\anaconda3\\envs\\mytensorflow\\lib\\site-packages (from scikit-learn!=0.22.0->lightgbm) (0.16.0)\n",
      "Requirement already satisfied: threadpoolctl>=2.0.0 in c:\\users\\shreyas\\anaconda3\\envs\\mytensorflow\\lib\\site-packages (from scikit-learn!=0.22.0->lightgbm) (2.1.0)\n"
     ]
    }
   ],
   "source": [
    "!pip install lightgbm\n",
    "from lightgbm import LGBMClassifier\n",
    "model=LGBMClassifier().fit(x_train,y_train)"
   ]
  },
  {
   "cell_type": "code",
   "execution_count": 13,
   "metadata": {
    "colab": {
     "base_uri": "https://localhost:8080/",
     "height": 34
    },
    "id": "ts-rUhg8-x0k",
    "outputId": "08a68c81-33b4-4c20-dc93-d56ed86c6faa"
   },
   "outputs": [
    {
     "data": {
      "text/plain": [
       "0.9992979288902262"
      ]
     },
     "execution_count": 13,
     "metadata": {},
     "output_type": "execute_result"
    }
   ],
   "source": [
    "model.score(x_train,y_train)"
   ]
  },
  {
   "cell_type": "code",
   "execution_count": 14,
   "metadata": {
    "colab": {
     "base_uri": "https://localhost:8080/",
     "height": 34
    },
    "id": "MpK87nMyno9R",
    "outputId": "918df003-d461-4a9d-8ac5-2dde4ce3f1ab"
   },
   "outputs": [
    {
     "data": {
      "text/plain": [
       "0.9946141116293065"
      ]
     },
     "execution_count": 14,
     "metadata": {},
     "output_type": "execute_result"
    }
   ],
   "source": [
    "model.score(x_test,y_test)"
   ]
  },
  {
   "cell_type": "code",
   "execution_count": 15,
   "metadata": {
    "colab": {
     "base_uri": "https://localhost:8080/",
     "height": 893
    },
    "id": "hJB3xuwWocSY",
    "outputId": "fee22fa3-fa28-4a03-d6f3-f887db02c2a2"
   },
   "outputs": [
    {
     "data": {
      "image/png": "[encoded data removed]",
      "text/plain": [
       "<Figure size 1080x1080 with 1 Axes>"
      ]
     },
     "metadata": {
      "needs_background": "light"
     },
     "output_type": "display_data"
    }
   ],
   "source": [
    "import lightgbm\n",
    "import matplotlib.pyplot as plt\n",
    "ax = lightgbm.plot_importance(model, max_num_features=10, figsize=(15,15))\n",
    "plt.show()"
   ]
  },
  {
   "cell_type": "code",
   "execution_count": 16,
   "metadata": {
    "id": "1y0iZzU3HfnR"
   },
   "outputs": [],
   "source": [
    "df=cluster.apply(lambda x: x.sort_values([\"popularity\"],ascending=False))\n",
    "df.reset_index(level=0, inplace=True)"
   ]
  },
  {
   "cell_type": "code",
   "execution_count": 17,
   "metadata": {
    "colab": {
     "base_uri": "https://localhost:8080/",
     "height": 229
    },
    "id": "NNBzwoH3t6Q8",
    "outputId": "b2b58f9c-0108-4c60-bd49-5a95db121a00"
   },
   "outputs": [],
   "source": [
    "from keras.preprocessing.image import img_to_array\n",
    "import imutils\n",
    "from keras.models import load_model\n",
    "import numpy as np\n",
    "import cv2"
   ]
  },
  {
   "cell_type": "code",
   "execution_count": 26,
   "metadata": {},
   "outputs": [],
   "source": [
    "detection_model_path = 'haarcascade_frontalface_default.xml'\n",
    "emotion_model_path = 'final_model3.h5'\n",
    "face_detection = cv2.CascadeClassifier(detection_model_path)\n",
    "emotion_classifier = load_model(emotion_model_path, compile=False)\n",
    "EMOTIONS = [\"happy\",\"sad\"]"
   ]
  },
  {
   "cell_type": "code",
   "execution_count": 39,
   "metadata": {},
   "outputs": [],
   "source": [
    "from keras.preprocessing import image\n",
    "def emotion_testing():\n",
    "        cap=cv2.VideoCapture(0)\n",
    "        while True:\n",
    "            ret,test_img=cap.read()# captures frame and returns boolean value and captured image\n",
    "            if not ret:\n",
    "                continue\n",
    "            gray_img= cv2.cvtColor(test_img, cv2.COLOR_BGR2GRAY)\n",
    "\n",
    "            faces_detected = face_detection.detectMultiScale(gray_img, 1.32, 5)\n",
    "\n",
    "\n",
    "            for (x,y,w,h) in faces_detected:\n",
    "                cv2.rectangle(test_img,(x,y),(x+w,y+h),(255,0,0),thickness=7)\n",
    "                roi_gray=gray_img[y:y+w,x:x+h]#cropping region of interest i.e. face area from  image\n",
    "                roi_gray=cv2.resize(roi_gray,(48,48))\n",
    "                img_pixels = image.img_to_array(roi_gray)\n",
    "                img_pixels = np.expand_dims(img_pixels, axis = 0)\n",
    "                img_pixels /= 255\n",
    "\n",
    "                predictions = emotion_classifier.predict(img_pixels)\n",
    "\n",
    "                #find max indexed array\n",
    "                max_index = np.argmax(predictions[0])\n",
    "                predicted_emotion = EMOTIONS[max_index]\n",
    "\n",
    "                cv2.putText(test_img, predicted_emotion, (int(x), int(y)), cv2.FONT_HERSHEY_SIMPLEX, 1, (0,0,255), 2)\n",
    "\n",
    "            resized_img = cv2.resize(test_img, (1000, 700))\n",
    "            cv2.imshow('Facial emotion analysis ',resized_img)\n",
    "\n",
    "\n",
    "\n",
    "            if cv2.waitKey(0) & 0xFF == ord('q'):\n",
    "                     break\n",
    "        cap.release()\n",
    "        cv2.destroyAllWindows\n",
    "        return predicted_emotion"
   ]
  },
  {
   "cell_type": "code",
   "execution_count": 46,
   "metadata": {},
   "outputs": [],
   "source": [
    "emotion_word=emotion_testing()\n",
    "if emotion_word=='sad':\n",
    "    emotion_code=0\n",
    "else:\n",
    "    emotion_code=1"
   ]
  },
  {
   "cell_type": "code",
   "execution_count": 47,
   "metadata": {
    "id": "QHyMLtLnHsiD"
   },
   "outputs": [],
   "source": [
    "def get_results(emotion_code):\n",
    "  NUM_RECOMMEND=10\n",
    "  happy_set=[]\n",
    "  sad_set=[]\n",
    "  if emotion_code==0:\n",
    "      happy_set.append(df[df['kmeans']==0]['song_name'].head(NUM_RECOMMEND))\n",
    "      return pd.DataFrame(happy_set).T\n",
    "  else:\n",
    "      sad_set.append(df[df['kmeans']==1]['song_name'].head(NUM_RECOMMEND))\n",
    "      return pd.DataFrame(sad_set).T"
   ]
  },
  {
   "cell_type": "code",
   "execution_count": 5,
   "metadata": {},
   "outputs": [],
   "source": [
    "from yt_dlp import YoutubeDL\n",
    "\n",
    "def get_youtube_audio_url(query):\n",
    "    with YoutubeDL({'format': 'bestaudio', 'quiet': True}) as ydl:\n",
    "        try:\n",
    "            info = ydl.extract_info(f\"ytsearch:{query}\", download=False)['entries'][0]\n",
    "            return info['url']\n",
    "        except Exception as e:\n",
    "            return None\n"
   ]
  },
  {
   "cell_type": "code",
   "execution_count": 6,
   "metadata": {},
   "outputs": [],
   "source": [
    "query = \"shape of you ed sheeran\"\n",
    "audio_url = get_youtube_audio_url(query)"
   ]
  },
  {
   "cell_type": "code",
   "execution_count": 7,
   "metadata": {},
   "outputs": [
    {
     "data": {
      "text/plain": [
       "'https://rr5---sn-42u-i5oly.googlevideo.com/videoplayback?expire=1744139415&ei=NiD1Z6P6O8ysvcAPsPnk-As&ip=58.187.67.170&id=o-AA27XxSa_454Ry4Rg-R6d6NLpEK5RP3Op7X88a1i1Gnp&itag=251&source=youtube&requiressl=yes&xpc=EgVo2aDSNQ%3D%3D&met=1744117814%2C&mh=Ql&mm=31%2C26&mn=sn-42u-i5oly%2Csn-oguesn6s&ms=au%2Conr&mv=m&mvi=5&pl=24&rms=au%2Cau&initcwndbps=3321250&bui=AccgBcMb2DrShPfErav4v_o9Qa9ilAjs5xgvy-KjvJkOD01BvnibtRSRtJiIhnQh3W97IsywOC_c8PhB&vprv=1&svpuc=1&mime=audio%2Fwebm&ns=frOCTYL8godwgK3on_cXzeYQ&rqh=1&gir=yes&clen=4171750&dur=263.241&lmt=1715393389142958&mt=1744117283&fvip=4&keepalive=yes&lmw=1&c=TVHTML5&sefc=1&txp=4532434&n=-JthE5lCB-DX_w&sparams=expire%2Cei%2Cip%2Cid%2Citag%2Csource%2Crequiressl%2Cxpc%2Cbui%2Cvprv%2Csvpuc%2Cmime%2Cns%2Crqh%2Cgir%2Cclen%2Cdur%2Clmt&lsparams=met%2Cmh%2Cmm%2Cmn%2Cms%2Cmv%2Cmvi%2Cpl%2Crms%2Cinitcwndbps&lsig=ACuhMU0wRQIhANzR0kkNA9O2Ww9f7fU7caheyPN4elQUMS2jEUxB4qo7AiAWOgeOxxvO0_tt-QLf_y9IpwkR98iPQlM4gYS3LkPe-w%3D%3D&sig=AJfQdSswRgIhAO-h6Sk4sTKKclmEsGju9SWViDaNp86g93WW7LblH2S-AiEA4hBCVSXqua9bkCHAaRXZoAchtXBP4Ss5dciRiyNpVCY%3D'"
      ]
     },
     "execution_count": 7,
     "metadata": {},
     "output_type": "execute_result"
    }
   ],
   "source": [
    "audio_url"
   ]
  },
  {
   "cell_type": "code",
   "execution_count": 48,
   "metadata": {},
   "outputs": [
    {
     "name": "stdout",
     "output_type": "stream",
     "text": [
      "                                  song_name\n",
      "87852  ily (i love you baby) (feat. Emilee)\n",
      "87844                            Supalonely\n",
      "87953     Stuck with U (with Justin Bieber)\n",
      "87858                          Dance Monkey\n",
      "87952       Rain On Me (with Ariana Grande)\n",
      "87951                                 GOOBA\n",
      "87850                       Don't Start Now\n",
      "87890                           Breaking Me\n",
      "87969                            Boss Bitch\n",
      "87970                        Yo Perreo Sola\n",
      "emotion detected is SAD\n"
     ]
    }
   ],
   "source": [
    "print(get_results(emotion_code))\n",
    "if emotion_word=='sad':\n",
    "    print('emotion detected is SAD')\n",
    "else:\n",
    "    print('emotion detected is HAPPY')"
   ]
  },
  {
   "cell_type": "code",
   "execution_count": null,
   "metadata": {},
   "outputs": [],
   "source": [
    "class ODE(nn.Module):\n",
    "\n",
    "    # init ODE variables\n",
    "    def __init__(self, dim):\n",
    "        super(ODE, self).__init__()\n",
    "        self.norm1 = norm(dim)\n",
    "        self.relu = nn.ReLU(inplace=True)\n",
    "        self.conv1 = conv3x3(dim, dim)\n",
    "        self.norm2 = norm(dim)\n",
    "        self.conv2 = conv3x3(dim, dim)\n",
    "        self.norm3 = norm(dim)\n",
    "        self.nfe = 0\n",
    "        \n",
    "\n",
    "    # init ODE operations \n",
    "    def forward(self, t, x):\n",
    "      #nfe = number of function evaluations per timestep\n",
    "        self.nfe += 1\n",
    "        out = self.norm1(x)\n",
    "        out = self.relu(out)\n",
    "        out = self.conv1(out)\n",
    "        out = self.norm2(out)\n",
    "        out = self.relu(out)\n",
    "        out = self.conv2(out)\n",
    "        out = self.norm3(out)\n",
    "        return out\n"
   ]
  },
  {
   "cell_type": "code",
   "execution_count": 8,
   "metadata": {},
   "outputs": [
    {
     "data": {
      "image/png": "[encoded data removed]",
      "text/plain": [
       "<Figure size 3000x400 with 9 Axes>"
      ]
     },
     "metadata": {},
     "output_type": "display_data"
    }
   ],
   "source": [
    "import torch\n",
    "from torch import nn, Tensor\n",
    "import matplotlib.pyplot as plt\n",
    "from sklearn.datasets import make_moons\n",
    "\n",
    "class Flow(nn.Module):\n",
    "    def __init__(self, dim: int = 2, h: int = 64):\n",
    "        super().__init__()\n",
    "        self.net = nn.Sequential(\n",
    "            nn.Linear(dim + 1, h), nn.ELU(),\n",
    "            nn.Linear(h, h), nn.ELU(),\n",
    "            nn.Linear(h, h), nn.ELU(),\n",
    "            nn.Linear(h, dim)\n",
    "        )\n",
    "\n",
    "    def forward(self, x_t: Tensor, t: Tensor) -> Tensor:\n",
    "        return self.net(torch.cat((t, x_t), -1))\n",
    "\n",
    "    def step(self, x_t: Tensor, t_start: Tensor, t_end: Tensor) -> Tensor:\n",
    "        t_start = t_start.view(1, 1).expand(x_t.shape[0], 1)\n",
    "        return x_t + (t_end - t_start) * self(\n",
    "            x_t + self(x_t, t_start) * (t_end - t_start) / 2,\n",
    "            t_start + (t_end - t_start) / 2\n",
    "        )\n",
    "\n",
    "# Training\n",
    "flow = Flow()\n",
    "optimizer = torch.optim.Adam(flow.parameters(), 1e-2)\n",
    "loss_fn = nn.MSELoss()\n",
    "\n",
    "for _ in range(10000):\n",
    "    x_1 = Tensor(make_moons(256, noise=0.05)[0])\n",
    "    x_0 = torch.randn_like(x_1)\n",
    "    t = torch.rand(len(x_1), 1)\n",
    "    x_t = (1 - t) * x_0 + t * x_1\n",
    "    dx_t = x_1 - x_0\n",
    "    optimizer.zero_grad()\n",
    "    loss_fn(flow(x_t, t), dx_t).backward()\n",
    "    optimizer.step()\n",
    "\n",
    "# Sampling\n",
    "x = torch.randn(300, 2)\n",
    "n_steps = 8\n",
    "fig, axes = plt.subplots(1, n_steps + 1, figsize=(30, 4), sharex=True, sharey=True)\n",
    "time_steps = torch.linspace(0, 1.0, n_steps + 1)\n",
    "\n",
    "axes[0].scatter(x.detach()[:, 0], x.detach()[:, 1], s=10)\n",
    "axes[0].set_title(f't={time_steps[0]:.2f}')\n",
    "axes[0].set_xlim(-3.0, 3.0)\n",
    "axes[0].set_ylim(-3.0, 3.0)\n",
    "\n",
    "for i in range(n_steps):\n",
    "    x = flow.step(x, time_steps[i], time_steps[i + 1])\n",
    "    axes[i + 1].scatter(x.detach()[:, 0], x.detach()[:, 1], s=10)\n",
    "    axes[i + 1].set_title(f't={time_steps[i + 1]:.2f}')\n",
    "\n",
    "plt.tight_layout()\n",
    "plt.show()\n"
   ]
  }
 ],
 "metadata": {
  "colab": {
   "collapsed_sections": [],
   "name": "music1.ipynb",
   "provenance": []
  },
  "kernelspec": {
   "display_name": "dfine",
   "language": "python",
   "name": "python3"
  },
  "language_info": {
   "codemirror_mode": {
    "name": "ipython",
    "version": 3
   },
   "file_extension": ".py",
   "mimetype": "text/x-python",
   "name": "python",
   "nbconvert_exporter": "python",
   "pygments_lexer": "ipython3",
   "version": "3.11.9"
  }
 },
 "nbformat": 4,
 "nbformat_minor": 1
}
