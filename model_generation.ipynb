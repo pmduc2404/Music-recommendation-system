{
  "cells": [
    {
      "cell_type": "code",
      "execution_count": null,
      "metadata": {
        "colab": {
          "base_uri": "https://localhost:8080/",
          "height": 34
        },
        "id": "jbo4wYjKllib",
        "outputId": "0ba7e193-c598-49c7-99d3-75049bc3149c"
      },
      "outputs": [
        {
          "name": "stdout",
          "output_type": "stream",
          "text": [
            "Mounted at /content/drive\n"
          ]
        }
      ],
      "source": [
        "from google.colab import drive\n",
        "drive.mount('/content/drive')"
      ]
    },
    {
      "cell_type": "code",
      "execution_count": 3,
      "metadata": {},
      "outputs": [],
      "source": [
        "import numpy as np\n",
        "source_embeddings = 399\n",
        "batch_size = 32\n",
        "indices = np.random.choice(source_embeddings, batch_size, replace=False)"
      ]
    },
    {
      "cell_type": "code",
      "execution_count": 4,
      "metadata": {},
      "outputs": [
        {
          "data": {
            "text/plain": [
              "array([292, 373, 143, 381, 291, 309, 321, 397,  72, 120,  42,  93, 339,\n",
              "       166,  36, 299, 368, 312, 365, 141, 301,  65, 285, 171, 254, 253,\n",
              "       224, 294,  20, 162,  78, 269])"
            ]
          },
          "execution_count": 4,
          "metadata": {},
          "output_type": "execute_result"
        }
      ],
      "source": [
        "indices"
      ]
    },
    {
      "cell_type": "code",
      "execution_count": null,
      "metadata": {
        "id": "7b5pVbVQe-Wh"
      },
      "outputs": [],
      "source": [
        "import numpy as np \n",
        "import pandas as pd"
      ]
    },
    {
      "cell_type": "code",
      "execution_count": null,
      "metadata": {
        "id": "OFeAiXp3e-XH"
      },
      "outputs": [],
      "source": [
        "\n",
        "from matplotlib import pyplot\n",
        "\n",
        "from sklearn.model_selection import train_test_split\n",
        "from sklearn.preprocessing import LabelEncoder\n",
        "from sklearn.metrics import classification_report\n",
        "from keras.utils import np_utils\n",
        "import tensorflow as tf\n",
        "from tensorflow.keras import optimizers\n",
        "from tensorflow.keras.datasets import mnist\n",
        "from tensorflow.keras.models import Sequential\n",
        "from tensorflow.keras.layers import Flatten, Dense, Conv2D, MaxPooling2D\n",
        "from tensorflow.keras.layers import Dropout, BatchNormalization, LeakyReLU, Activation\n",
        "from tensorflow.keras.callbacks import Callback, EarlyStopping, ReduceLROnPlateau\n",
        "from tensorflow.keras.preprocessing.image import ImageDataGenerator"
      ]
    },
    {
      "cell_type": "code",
      "execution_count": null,
      "metadata": {
        "colab": {
          "base_uri": "https://localhost:8080/",
          "height": 212
        },
        "id": "qqt5PG3qe-Xs",
        "outputId": "2927556b-0d39-4382-a858-be896c21be55"
      },
      "outputs": [
        {
          "name": "stdout",
          "output_type": "stream",
          "text": [
            "(35887, 3)\n"
          ]
        },
        {
          "data": {
            "text/html": [
              "<div>\n",
              "<style scoped>\n",
              "    .dataframe tbody tr th:only-of-type {\n",
              "        vertical-align: middle;\n",
              "    }\n",
              "\n",
              "    .dataframe tbody tr th {\n",
              "        vertical-align: top;\n",
              "    }\n",
              "\n",
              "    .dataframe thead th {\n",
              "        text-align: right;\n",
              "    }\n",
              "</style>\n",
              "<table border=\"1\" class=\"dataframe\">\n",
              "  <thead>\n",
              "    <tr style=\"text-align: right;\">\n",
              "      <th></th>\n",
              "      <th>emotion</th>\n",
              "      <th>pixels</th>\n",
              "      <th>Usage</th>\n",
              "    </tr>\n",
              "  </thead>\n",
              "  <tbody>\n",
              "    <tr>\n",
              "      <th>0</th>\n",
              "      <td>0</td>\n",
              "      <td>70 80 82 72 58 58 60 63 54 58 60 48 89 115 121...</td>\n",
              "      <td>Training</td>\n",
              "    </tr>\n",
              "    <tr>\n",
              "      <th>1</th>\n",
              "      <td>0</td>\n",
              "      <td>151 150 147 155 148 133 111 140 170 174 182 15...</td>\n",
              "      <td>Training</td>\n",
              "    </tr>\n",
              "    <tr>\n",
              "      <th>2</th>\n",
              "      <td>2</td>\n",
              "      <td>231 212 156 164 174 138 161 173 182 200 106 38...</td>\n",
              "      <td>Training</td>\n",
              "    </tr>\n",
              "    <tr>\n",
              "      <th>3</th>\n",
              "      <td>4</td>\n",
              "      <td>24 32 36 30 32 23 19 20 30 41 21 22 32 34 21 1...</td>\n",
              "      <td>Training</td>\n",
              "    </tr>\n",
              "    <tr>\n",
              "      <th>4</th>\n",
              "      <td>6</td>\n",
              "      <td>4 0 0 0 0 0 0 0 0 0 0 0 3 15 23 28 48 50 58 84...</td>\n",
              "      <td>Training</td>\n",
              "    </tr>\n",
              "  </tbody>\n",
              "</table>\n",
              "</div>"
            ],
            "text/plain": [
              "   emotion                                             pixels     Usage\n",
              "0        0  70 80 82 72 58 58 60 63 54 58 60 48 89 115 121...  Training\n",
              "1        0  151 150 147 155 148 133 111 140 170 174 182 15...  Training\n",
              "2        2  231 212 156 164 174 138 161 173 182 200 106 38...  Training\n",
              "3        4  24 32 36 30 32 23 19 20 30 41 21 22 32 34 21 1...  Training\n",
              "4        6  4 0 0 0 0 0 0 0 0 0 0 0 3 15 23 28 48 50 58 84...  Training"
            ]
          },
          "execution_count": 4,
          "metadata": {
            "tags": []
          },
          "output_type": "execute_result"
        }
      ],
      "source": [
        "\n",
        "df = pd.read_csv(\"/content/drive/My Drive/fer2013.csv\")\n",
        "print(df.shape)\n",
        "df.head()"
      ]
    },
    {
      "cell_type": "code",
      "execution_count": null,
      "metadata": {
        "id": "CGkqGIk0e-X-"
      },
      "outputs": [],
      "source": [
        "emotion_label_to_text = {0:'anger', 1:'disgust', 2:'fear', 3:'happiness', 4: 'sadness', 5: 'surprise', 6: 'neutral'}"
      ]
    },
    {
      "cell_type": "code",
      "execution_count": null,
      "metadata": {
        "id": "EquAPUdke-Yq"
      },
      "outputs": [],
      "source": [
        "INTERESTED_LABELS = [3, 4]\n",
        "df = df[df.emotion.isin(INTERESTED_LABELS)]"
      ]
    },
    {
      "cell_type": "code",
      "execution_count": null,
      "metadata": {
        "id": "WPbMpEyoe-ZB"
      },
      "outputs": [],
      "source": [
        "img_array = df.pixels.apply(lambda x: np.array(x.split(' ')).reshape(48, 48, 1).astype('float32'))\n",
        "img_array = np.stack(img_array, axis=0)"
      ]
    },
    {
      "cell_type": "code",
      "execution_count": null,
      "metadata": {
        "id": "LVZ_fcJ8lcrN"
      },
      "outputs": [],
      "source": []
    },
    {
      "cell_type": "code",
      "execution_count": null,
      "metadata": {
        "colab": {
          "base_uri": "https://localhost:8080/",
          "height": 34
        },
        "id": "oIvYcM8ue-ZZ",
        "outputId": "c7944e2f-99e3-4bde-a2ba-675b8684546e"
      },
      "outputs": [
        {
          "data": {
            "text/plain": [
              "(15066, 2)"
            ]
          },
          "execution_count": 8,
          "metadata": {
            "tags": []
          },
          "output_type": "execute_result"
        }
      ],
      "source": [
        "le = LabelEncoder()\n",
        "img_labels = le.fit_transform(df['emotion'])\n",
        "img_labels = np_utils.to_categorical(img_labels)\n",
        "img_labels.shape"
      ]
    },
    {
      "cell_type": "code",
      "execution_count": null,
      "metadata": {
        "colab": {
          "base_uri": "https://localhost:8080/",
          "height": 34
        },
        "id": "TqnAa2v_e-Z5",
        "outputId": "c68fd249-f1ad-415c-f0ee-2869ab36d1e8"
      },
      "outputs": [
        {
          "name": "stdout",
          "output_type": "stream",
          "text": [
            "{3: 0, 4: 1}\n"
          ]
        }
      ],
      "source": [
        "le_name_mapping = dict(zip(le.classes_, le.transform(le.classes_)))\n",
        "print(le_name_mapping)"
      ]
    },
    {
      "cell_type": "code",
      "execution_count": null,
      "metadata": {
        "colab": {
          "base_uri": "https://localhost:8080/",
          "height": 34
        },
        "id": "6rZH3dgde-aV",
        "outputId": "0744f212-5043-436b-df58-c3890e8e702c"
      },
      "outputs": [
        {
          "data": {
            "text/plain": [
              "((12052, 48, 48, 1), (3014, 48, 48, 1), (12052, 2), (3014, 2))"
            ]
          },
          "execution_count": 10,
          "metadata": {
            "tags": []
          },
          "output_type": "execute_result"
        }
      ],
      "source": [
        "X_train, X_test, y_train, y_test = train_test_split(img_array, img_labels,\n",
        "                                                    shuffle=True, stratify=img_labels,\n",
        "                                                    test_size=0.2, random_state=42)\n",
        "X_train.shape, X_test.shape, y_train.shape, y_test.shape"
      ]
    },
    {
      "cell_type": "code",
      "execution_count": null,
      "metadata": {
        "id": "dSwptfn2e-ad"
      },
      "outputs": [],
      "source": [
        "img_width = X_train.shape[1]\n",
        "img_height = X_train.shape[2]\n",
        "img_depth = X_train.shape[3]\n",
        "num_classes = y_train.shape[1]"
      ]
    },
    {
      "cell_type": "code",
      "execution_count": null,
      "metadata": {
        "id": "msZ6Cw2ae-bF"
      },
      "outputs": [],
      "source": [
        "X_train = X_train / 255.\n",
        "X_test = X_test / 255."
      ]
    },
    {
      "cell_type": "code",
      "execution_count": null,
      "metadata": {
        "id": "vpoPpCL-e-bR"
      },
      "outputs": [],
      "source": [
        "def build_net(optim):\n",
        "            net = Sequential(name='DCNN')\n",
        "\n",
        "            net.add(Conv2D(filters=256,kernel_size=(5,5),input_shape=(img_width, img_height, img_depth),activation='elu',\n",
        "                           padding='same',kernel_initializer='he_normal', name='conv2d_1'))\n",
        "            net.add(BatchNormalization(name='batchnorm_1'))\n",
        "            net.add(Conv2D(filters=128,kernel_size=(5,5),activation='elu',padding='same',kernel_initializer='he_normal',\n",
        "                        name='conv2d_2'))\n",
        "            net.add(BatchNormalization(name='batchnorm_2'))\n",
        "            net.add(MaxPooling2D(pool_size=(2,2), name='maxpool2d_1'))\n",
        "            net.add(Dropout(0.4, name='dropout_1'))\n",
        "            net.add(Conv2D(filters=128,kernel_size=(3,3),activation='elu',padding='same',kernel_initializer='he_normal',\n",
        "                        name='conv2d_3'))\n",
        "            net.add(BatchNormalization(name='batchnorm_3'))\n",
        "            net.add(Conv2D(filters=128,kernel_size=(3,3),activation='elu',padding='same',kernel_initializer='he_normal',\n",
        "                        name='conv2d_4'))\n",
        "            net.add(BatchNormalization(name='batchnorm_4'))\n",
        "            net.add(MaxPooling2D(pool_size=(2,2), name='maxpool2d_2'))\n",
        "            net.add(Dropout(0.4, name='dropout_2'))\n",
        "            net.add(Conv2D(filters=256,kernel_size=(3,3),activation='elu',padding='same',kernel_initializer='he_normal',\n",
        "                        name='conv2d_5'))\n",
        "            net.add(BatchNormalization(name='batchnorm_5'))\n",
        "            net.add(Conv2D(filters=256,kernel_size=(3,3),activation='elu',padding='same',kernel_initializer='he_normal',\n",
        "                        name='conv2d_6'))\n",
        "            net.add(BatchNormalization(name='batchnorm_6'))\n",
        "            net.add(MaxPooling2D(pool_size=(2,2), name='maxpool2d_3'))\n",
        "            net.add(Dropout(0.5, name='dropout_3'))\n",
        "            net.add(Flatten(name='flatten'))\n",
        "            net.add(Dense(128,activation='elu',kernel_initializer='he_normal',name='dense_1'))\n",
        "            net.add(BatchNormalization(name='batchnorm_7'))\n",
        "            net.add(Dropout(0.6, name='dropout_4'))\n",
        "            net.add(Dense(num_classes,activation='softmax',name='out_layer'))\n",
        "\n",
        "            net.compile(loss='binary_crossentropy',optimizer='adam',metrics=['accuracy'])\n",
        "\n",
        "            net.summary()\n",
        "            \n",
        "            return net\n",
        "\n"
      ]
    },
    {
      "cell_type": "code",
      "execution_count": null,
      "metadata": {
        "id": "ZxWGDBnse-bk"
      },
      "outputs": [],
      "source": [
        "\n",
        "early_stopping = EarlyStopping(monitor='val_accuracy',min_delta=0.00005,patience=10,verbose=1,\n",
        "    restore_best_weights=True)\n",
        "\n",
        "lr_scheduler = ReduceLROnPlateau(monitor='val_accuracy',factor=0.5,patience=7,min_lr=1e-7,verbose=1)\n",
        "\n",
        "callbacks = [early_stopping,lr_scheduler]"
      ]
    },
    {
      "cell_type": "code",
      "execution_count": null,
      "metadata": {
        "id": "-6lpLGhSe-cE"
      },
      "outputs": [],
      "source": [
        "train_datagen = ImageDataGenerator(rotation_range=15,width_shift_range=0.15,height_shift_range=0.15,\n",
        "    shear_range=0.15,zoom_range=0.15,horizontal_flip=True)\n",
        "train_datagen.fit(X_train)"
      ]
    },
    {
      "cell_type": "code",
      "execution_count": null,
      "metadata": {
        "colab": {
          "base_uri": "https://localhost:8080/",
          "height": 1000
        },
        "id": "ImQK8ygNe-cL",
        "outputId": "f22e45cc-0c29-49d2-de26-284fee2ed5aa"
      },
      "outputs": [
        {
          "name": "stdout",
          "output_type": "stream",
          "text": [
            "Model: \"DCNN\"\n",
            "_________________________________________________________________\n",
            "Layer (type)                 Output Shape              Param #   \n",
            "=================================================================\n",
            "conv2d_1 (Conv2D)            (None, 48, 48, 256)       6656      \n",
            "_________________________________________________________________\n",
            "batchnorm_1 (BatchNormalizat (None, 48, 48, 256)       1024      \n",
            "_________________________________________________________________\n",
            "conv2d_2 (Conv2D)            (None, 48, 48, 128)       819328    \n",
            "_________________________________________________________________\n",
            "batchnorm_2 (BatchNormalizat (None, 48, 48, 128)       512       \n",
            "_________________________________________________________________\n",
            "maxpool2d_1 (MaxPooling2D)   (None, 24, 24, 128)       0         \n",
            "_________________________________________________________________\n",
            "dropout_1 (Dropout)          (None, 24, 24, 128)       0         \n",
            "_________________________________________________________________\n",
            "conv2d_3 (Conv2D)            (None, 24, 24, 128)       147584    \n",
            "_________________________________________________________________\n",
            "batchnorm_3 (BatchNormalizat (None, 24, 24, 128)       512       \n",
            "_________________________________________________________________\n",
            "conv2d_4 (Conv2D)            (None, 24, 24, 128)       147584    \n",
            "_________________________________________________________________\n",
            "batchnorm_4 (BatchNormalizat (None, 24, 24, 128)       512       \n",
            "_________________________________________________________________\n",
            "maxpool2d_2 (MaxPooling2D)   (None, 12, 12, 128)       0         \n",
            "_________________________________________________________________\n",
            "dropout_2 (Dropout)          (None, 12, 12, 128)       0         \n",
            "_________________________________________________________________\n",
            "conv2d_5 (Conv2D)            (None, 12, 12, 256)       295168    \n",
            "_________________________________________________________________\n",
            "batchnorm_5 (BatchNormalizat (None, 12, 12, 256)       1024      \n",
            "_________________________________________________________________\n",
            "conv2d_6 (Conv2D)            (None, 12, 12, 256)       590080    \n",
            "_________________________________________________________________\n",
            "batchnorm_6 (BatchNormalizat (None, 12, 12, 256)       1024      \n",
            "_________________________________________________________________\n",
            "maxpool2d_3 (MaxPooling2D)   (None, 6, 6, 256)         0         \n",
            "_________________________________________________________________\n",
            "dropout_3 (Dropout)          (None, 6, 6, 256)         0         \n",
            "_________________________________________________________________\n",
            "flatten (Flatten)            (None, 9216)              0         \n",
            "_________________________________________________________________\n",
            "dense_1 (Dense)              (None, 128)               1179776   \n",
            "_________________________________________________________________\n",
            "batchnorm_7 (BatchNormalizat (None, 128)               512       \n",
            "_________________________________________________________________\n",
            "dropout_4 (Dropout)          (None, 128)               0         \n",
            "_________________________________________________________________\n",
            "out_layer (Dense)            (None, 2)                 258       \n",
            "=================================================================\n",
            "Total params: 3,191,554\n",
            "Trainable params: 3,188,994\n",
            "Non-trainable params: 2,560\n",
            "_________________________________________________________________\n",
            "Epoch 1/75\n",
            "189/188 [==============================] - 18s 93ms/step - loss: 0.9036 - accuracy: 0.5647 - val_loss: 0.6334 - val_accuracy: 0.6357\n",
            "Epoch 2/75\n",
            "189/188 [==============================] - 17s 90ms/step - loss: 0.6809 - accuracy: 0.6104 - val_loss: 0.6030 - val_accuracy: 0.6603\n",
            "Epoch 3/75\n",
            "189/188 [==============================] - 17s 91ms/step - loss: 0.6188 - accuracy: 0.6593 - val_loss: 0.5714 - val_accuracy: 0.6921\n",
            "Epoch 4/75\n",
            "189/188 [==============================] - 18s 93ms/step - loss: 0.5903 - accuracy: 0.6781 - val_loss: 0.5171 - val_accuracy: 0.7442\n",
            "Epoch 5/75\n",
            "189/188 [==============================] - 18s 94ms/step - loss: 0.5436 - accuracy: 0.7166 - val_loss: 0.4614 - val_accuracy: 0.7668\n",
            "Epoch 6/75\n",
            "189/188 [==============================] - 18s 97ms/step - loss: 0.4896 - accuracy: 0.7602 - val_loss: 0.5357 - val_accuracy: 0.7611\n",
            "Epoch 7/75\n",
            "189/188 [==============================] - 18s 95ms/step - loss: 0.4370 - accuracy: 0.7909 - val_loss: 0.3704 - val_accuracy: 0.8411\n",
            "Epoch 8/75\n",
            "189/188 [==============================] - 18s 94ms/step - loss: 0.3826 - accuracy: 0.8264 - val_loss: 0.3301 - val_accuracy: 0.8656\n",
            "Epoch 9/75\n",
            "189/188 [==============================] - 18s 94ms/step - loss: 0.3516 - accuracy: 0.8439 - val_loss: 0.3167 - val_accuracy: 0.8673\n",
            "Epoch 10/75\n",
            "189/188 [==============================] - 18s 95ms/step - loss: 0.3353 - accuracy: 0.8554 - val_loss: 0.3044 - val_accuracy: 0.8729\n",
            "Epoch 11/75\n",
            "189/188 [==============================] - 18s 95ms/step - loss: 0.3187 - accuracy: 0.8616 - val_loss: 0.3018 - val_accuracy: 0.8782\n",
            "Epoch 12/75\n",
            "189/188 [==============================] - 18s 95ms/step - loss: 0.3016 - accuracy: 0.8682 - val_loss: 0.3133 - val_accuracy: 0.8786\n",
            "Epoch 13/75\n",
            "189/188 [==============================] - 18s 94ms/step - loss: 0.2927 - accuracy: 0.8754 - val_loss: 0.2440 - val_accuracy: 0.8988\n",
            "Epoch 14/75\n",
            "189/188 [==============================] - 18s 95ms/step - loss: 0.2838 - accuracy: 0.8802 - val_loss: 0.2512 - val_accuracy: 0.8955\n",
            "Epoch 15/75\n",
            "189/188 [==============================] - 18s 95ms/step - loss: 0.2768 - accuracy: 0.8823 - val_loss: 0.2461 - val_accuracy: 0.9041\n",
            "Epoch 16/75\n",
            "189/188 [==============================] - 18s 95ms/step - loss: 0.2663 - accuracy: 0.8860 - val_loss: 0.2389 - val_accuracy: 0.9061\n",
            "Epoch 17/75\n",
            "189/188 [==============================] - 18s 95ms/step - loss: 0.2566 - accuracy: 0.8922 - val_loss: 0.2668 - val_accuracy: 0.8892\n",
            "Epoch 18/75\n",
            "189/188 [==============================] - 18s 95ms/step - loss: 0.2553 - accuracy: 0.8939 - val_loss: 0.2275 - val_accuracy: 0.9098\n",
            "Epoch 19/75\n",
            "189/188 [==============================] - 18s 95ms/step - loss: 0.2422 - accuracy: 0.9023 - val_loss: 0.2244 - val_accuracy: 0.9141\n",
            "Epoch 20/75\n",
            "189/188 [==============================] - 18s 95ms/step - loss: 0.2356 - accuracy: 0.9042 - val_loss: 0.2643 - val_accuracy: 0.8908\n",
            "Epoch 21/75\n",
            "189/188 [==============================] - 18s 94ms/step - loss: 0.2403 - accuracy: 0.8994 - val_loss: 0.2004 - val_accuracy: 0.9227\n",
            "Epoch 22/75\n",
            "189/188 [==============================] - 18s 95ms/step - loss: 0.2276 - accuracy: 0.9060 - val_loss: 0.2083 - val_accuracy: 0.9134\n",
            "Epoch 23/75\n",
            "189/188 [==============================] - 18s 95ms/step - loss: 0.2292 - accuracy: 0.9052 - val_loss: 0.1996 - val_accuracy: 0.9257\n",
            "Epoch 24/75\n",
            "189/188 [==============================] - 18s 95ms/step - loss: 0.2174 - accuracy: 0.9117 - val_loss: 0.2418 - val_accuracy: 0.8995\n",
            "Epoch 25/75\n",
            "189/188 [==============================] - 18s 95ms/step - loss: 0.2148 - accuracy: 0.9117 - val_loss: 0.1847 - val_accuracy: 0.9297\n",
            "Epoch 26/75\n",
            "189/188 [==============================] - 18s 95ms/step - loss: 0.2093 - accuracy: 0.9151 - val_loss: 0.1860 - val_accuracy: 0.9323\n",
            "Epoch 27/75\n",
            "189/188 [==============================] - 18s 94ms/step - loss: 0.2092 - accuracy: 0.9142 - val_loss: 0.2613 - val_accuracy: 0.9015\n",
            "Epoch 28/75\n",
            "189/188 [==============================] - 18s 94ms/step - loss: 0.2038 - accuracy: 0.9158 - val_loss: 0.1947 - val_accuracy: 0.9253\n",
            "Epoch 29/75\n",
            "189/188 [==============================] - 18s 94ms/step - loss: 0.2028 - accuracy: 0.9191 - val_loss: 0.1934 - val_accuracy: 0.9257\n",
            "Epoch 30/75\n",
            "189/188 [==============================] - 18s 95ms/step - loss: 0.1944 - accuracy: 0.9216 - val_loss: 0.2115 - val_accuracy: 0.9107\n",
            "Epoch 31/75\n",
            "189/188 [==============================] - 18s 95ms/step - loss: 0.1943 - accuracy: 0.9224 - val_loss: 0.1788 - val_accuracy: 0.9287\n",
            "Epoch 32/75\n",
            "189/188 [==============================] - 18s 95ms/step - loss: 0.1884 - accuracy: 0.9236 - val_loss: 0.1903 - val_accuracy: 0.9326\n",
            "Epoch 33/75\n",
            "189/188 [==============================] - 18s 95ms/step - loss: 0.1832 - accuracy: 0.9267 - val_loss: 0.2365 - val_accuracy: 0.9088\n",
            "Epoch 34/75\n",
            "189/188 [==============================] - 18s 95ms/step - loss: 0.1845 - accuracy: 0.9253 - val_loss: 0.1785 - val_accuracy: 0.9336\n",
            "Epoch 35/75\n",
            "189/188 [==============================] - 18s 95ms/step - loss: 0.1865 - accuracy: 0.9279 - val_loss: 0.1835 - val_accuracy: 0.9310\n",
            "Epoch 36/75\n",
            "189/188 [==============================] - 18s 95ms/step - loss: 0.1818 - accuracy: 0.9271 - val_loss: 0.1811 - val_accuracy: 0.9340\n",
            "Epoch 37/75\n",
            "189/188 [==============================] - 18s 95ms/step - loss: 0.1762 - accuracy: 0.9296 - val_loss: 0.1778 - val_accuracy: 0.9346\n",
            "Epoch 38/75\n",
            "189/188 [==============================] - 18s 95ms/step - loss: 0.1816 - accuracy: 0.9302 - val_loss: 0.1902 - val_accuracy: 0.9290\n",
            "Epoch 39/75\n",
            "189/188 [==============================] - 18s 95ms/step - loss: 0.1791 - accuracy: 0.9295 - val_loss: 0.2388 - val_accuracy: 0.8942\n",
            "Epoch 40/75\n",
            "189/188 [==============================] - 18s 95ms/step - loss: 0.1684 - accuracy: 0.9330 - val_loss: 0.1858 - val_accuracy: 0.9277\n",
            "Epoch 41/75\n",
            "189/188 [==============================] - 18s 95ms/step - loss: 0.1662 - accuracy: 0.9354 - val_loss: 0.1792 - val_accuracy: 0.9290\n",
            "Epoch 42/75\n",
            "189/188 [==============================] - 18s 95ms/step - loss: 0.1677 - accuracy: 0.9334 - val_loss: 0.2336 - val_accuracy: 0.9131\n",
            "Epoch 43/75\n",
            "189/188 [==============================] - 18s 95ms/step - loss: 0.1566 - accuracy: 0.9392 - val_loss: 0.2392 - val_accuracy: 0.9021\n",
            "Epoch 44/75\n",
            "189/188 [==============================] - ETA: 0s - loss: 0.1644 - accuracy: 0.9357\n",
            "Epoch 00044: ReduceLROnPlateau reducing learning rate to 0.0005000000237487257.\n",
            "189/188 [==============================] - 18s 95ms/step - loss: 0.1644 - accuracy: 0.9357 - val_loss: 0.1919 - val_accuracy: 0.9320\n",
            "Epoch 45/75\n",
            "189/188 [==============================] - 18s 95ms/step - loss: 0.1449 - accuracy: 0.9445 - val_loss: 0.1663 - val_accuracy: 0.9413\n",
            "Epoch 46/75\n",
            "189/188 [==============================] - 18s 95ms/step - loss: 0.1466 - accuracy: 0.9422 - val_loss: 0.1619 - val_accuracy: 0.9403\n",
            "Epoch 47/75\n",
            "189/188 [==============================] - 18s 95ms/step - loss: 0.1366 - accuracy: 0.9482 - val_loss: 0.1619 - val_accuracy: 0.9373\n",
            "Epoch 48/75\n",
            "189/188 [==============================] - 18s 95ms/step - loss: 0.1389 - accuracy: 0.9465 - val_loss: 0.1636 - val_accuracy: 0.9433\n",
            "Epoch 49/75\n",
            "189/188 [==============================] - 18s 95ms/step - loss: 0.1362 - accuracy: 0.9484 - val_loss: 0.1620 - val_accuracy: 0.9446\n",
            "Epoch 50/75\n",
            "189/188 [==============================] - 18s 95ms/step - loss: 0.1295 - accuracy: 0.9507 - val_loss: 0.1618 - val_accuracy: 0.9399\n",
            "Epoch 51/75\n",
            "189/188 [==============================] - 18s 94ms/step - loss: 0.1319 - accuracy: 0.9489 - val_loss: 0.1618 - val_accuracy: 0.9416\n",
            "Epoch 52/75\n",
            "189/188 [==============================] - 18s 94ms/step - loss: 0.1285 - accuracy: 0.9508 - val_loss: 0.1718 - val_accuracy: 0.9380\n",
            "Epoch 53/75\n",
            "189/188 [==============================] - 18s 95ms/step - loss: 0.1323 - accuracy: 0.9500 - val_loss: 0.1596 - val_accuracy: 0.9463\n",
            "Epoch 54/75\n",
            "189/188 [==============================] - 18s 95ms/step - loss: 0.1200 - accuracy: 0.9543 - val_loss: 0.1742 - val_accuracy: 0.9386\n",
            "Epoch 55/75\n",
            "189/188 [==============================] - 18s 95ms/step - loss: 0.1241 - accuracy: 0.9539 - val_loss: 0.1562 - val_accuracy: 0.9453\n",
            "Epoch 56/75\n",
            "189/188 [==============================] - 18s 95ms/step - loss: 0.1232 - accuracy: 0.9504 - val_loss: 0.1985 - val_accuracy: 0.9326\n",
            "Epoch 57/75\n",
            "189/188 [==============================] - 18s 95ms/step - loss: 0.1212 - accuracy: 0.9540 - val_loss: 0.1590 - val_accuracy: 0.9466\n",
            "Epoch 58/75\n",
            "189/188 [==============================] - 18s 95ms/step - loss: 0.1235 - accuracy: 0.9532 - val_loss: 0.1509 - val_accuracy: 0.9482\n",
            "Epoch 59/75\n",
            "189/188 [==============================] - 18s 95ms/step - loss: 0.1179 - accuracy: 0.9565 - val_loss: 0.1584 - val_accuracy: 0.9456\n",
            "Epoch 60/75\n",
            "189/188 [==============================] - 18s 95ms/step - loss: 0.1130 - accuracy: 0.9565 - val_loss: 0.1601 - val_accuracy: 0.9446\n",
            "Epoch 61/75\n",
            "189/188 [==============================] - 18s 95ms/step - loss: 0.1158 - accuracy: 0.9564 - val_loss: 0.1924 - val_accuracy: 0.9293\n",
            "Epoch 62/75\n",
            "189/188 [==============================] - 18s 95ms/step - loss: 0.1119 - accuracy: 0.9583 - val_loss: 0.1690 - val_accuracy: 0.9390\n",
            "Epoch 63/75\n",
            "189/188 [==============================] - 18s 95ms/step - loss: 0.1160 - accuracy: 0.9574 - val_loss: 0.1613 - val_accuracy: 0.9506\n",
            "Epoch 64/75\n",
            "189/188 [==============================] - 18s 95ms/step - loss: 0.1097 - accuracy: 0.9593 - val_loss: 0.2250 - val_accuracy: 0.9220\n",
            "Epoch 65/75\n",
            "189/188 [==============================] - 18s 95ms/step - loss: 0.1141 - accuracy: 0.9577 - val_loss: 0.1625 - val_accuracy: 0.9449\n",
            "Epoch 66/75\n",
            "189/188 [==============================] - 18s 95ms/step - loss: 0.1095 - accuracy: 0.9576 - val_loss: 0.1619 - val_accuracy: 0.9436\n",
            "Epoch 67/75\n",
            "189/188 [==============================] - 18s 95ms/step - loss: 0.1101 - accuracy: 0.9593 - val_loss: 0.1750 - val_accuracy: 0.9466\n",
            "Epoch 68/75\n",
            "189/188 [==============================] - 18s 95ms/step - loss: 0.1061 - accuracy: 0.9607 - val_loss: 0.1675 - val_accuracy: 0.9449\n",
            "Epoch 69/75\n",
            "189/188 [==============================] - 18s 95ms/step - loss: 0.1164 - accuracy: 0.9568 - val_loss: 0.1680 - val_accuracy: 0.9406\n",
            "Epoch 70/75\n",
            "189/188 [==============================] - ETA: 0s - loss: 0.1053 - accuracy: 0.9602\n",
            "Epoch 00070: ReduceLROnPlateau reducing learning rate to 0.0002500000118743628.\n",
            "189/188 [==============================] - 18s 95ms/step - loss: 0.1053 - accuracy: 0.9602 - val_loss: 0.1728 - val_accuracy: 0.9439\n",
            "Epoch 71/75\n",
            "189/188 [==============================] - 18s 95ms/step - loss: 0.1000 - accuracy: 0.9622 - val_loss: 0.1738 - val_accuracy: 0.9439\n",
            "Epoch 72/75\n",
            "189/188 [==============================] - 18s 95ms/step - loss: 0.0961 - accuracy: 0.9647 - val_loss: 0.1708 - val_accuracy: 0.9436\n",
            "Epoch 73/75\n",
            "189/188 [==============================] - 18s 95ms/step - loss: 0.0910 - accuracy: 0.9658 - val_loss: 0.1628 - val_accuracy: 0.9512\n",
            "Epoch 74/75\n",
            "189/188 [==============================] - 18s 95ms/step - loss: 0.0918 - accuracy: 0.9644 - val_loss: 0.1708 - val_accuracy: 0.9486\n",
            "Epoch 75/75\n",
            "189/188 [==============================] - 18s 95ms/step - loss: 0.0929 - accuracy: 0.9666 - val_loss: 0.1700 - val_accuracy: 0.9463\n"
          ]
        }
      ],
      "source": [
        "batch_size = 64 \n",
        "epochs = 75\n",
        "optims = [optimizers.Nadam(learning_rate=0.001, beta_1=0.9, beta_2=0.999, epsilon=1e-07, name='Nadam')\n",
        "          ,optimizers.Adam(0.001)]\n",
        "\n",
        "model = build_net(optims[1]) \n",
        "history = model.fit(train_datagen.flow(X_train, y_train, batch_size=batch_size),validation_data=(X_test, y_test),\n",
        "    steps_per_epoch=len(X_train) / batch_size,epochs=epochs,callbacks=callbacks)"
      ]
    },
    {
      "cell_type": "code",
      "execution_count": null,
      "metadata": {
        "id": "CNmntmKve-cS"
      },
      "outputs": [],
      "source": [
        "model.save(\"final_model.h5\")"
      ]
    },
    {
      "cell_type": "code",
      "execution_count": 3,
      "metadata": {
        "id": "v91YvYi1qyrV"
      },
      "outputs": [
        {
          "data": {
            "image/png": "[encoded data removed]",
            "text/plain": [
              "<Figure size 640x480 with 1 Axes>"
            ]
          },
          "metadata": {},
          "output_type": "display_data"
        }
      ],
      "source": [
        "import torch\n",
        "import torch.nn as nn\n",
        "import matplotlib.pyplot as plt\n",
        "from torchdiffeq import odeint\n",
        "\n",
        "# Định nghĩa hàm đạo hàm: dy/dt = f(y, t)\n",
        "class ODEFunc(nn.Module):\n",
        "    def __init__(self):\n",
        "        super(ODEFunc, self).__init__()\n",
        "        self.net = nn.Sequential(\n",
        "            nn.Linear(2, 50),\n",
        "            nn.Tanh(),\n",
        "            nn.Linear(50, 2)\n",
        "        )\n",
        "\n",
        "    def forward(self, t, y):\n",
        "        return self.net(y)\n",
        "\n",
        "# Hàm dự đoán bằng Neural ODE\n",
        "class ODEBlock(nn.Module):\n",
        "    def __init__(self, odefunc):\n",
        "        super(ODEBlock, self).__init__()\n",
        "        self.odefunc = odefunc\n",
        "\n",
        "    def forward(self, y0, t):\n",
        "        return odeint(self.odefunc, y0, t)\n",
        "\n",
        "# Khởi tạo mô hình\n",
        "func = ODEFunc()\n",
        "odeblock = ODEBlock(func)\n",
        "\n",
        "# Dữ liệu ban đầu: y0 = [x0, y0]\n",
        "y0 = torch.tensor([[2.0, 0.0]])\n",
        "t = torch.linspace(0., 2., 100)  # thời gian từ 0 đến 2\n",
        "\n",
        "# Dự đoán\n",
        "with torch.no_grad():\n",
        "    y_pred = odeblock(y0, t)\n",
        "\n",
        "# Vẽ kết quả\n",
        "y_pred = y_pred.squeeze().numpy()\n",
        "plt.plot(y_pred[:, 0], y_pred[:, 1])\n",
        "plt.title(\"Neural ODE Trajectory\")\n",
        "plt.xlabel(\"x\")\n",
        "plt.ylabel(\"y\")\n",
        "plt.grid(True)\n",
        "plt.show()\n"
      ]
    }
  ],
  "metadata": {
    "accelerator": "GPU",
    "colab": {
      "collapsed_sections": [],
      "name": "First Emotion detector version2.ipynb",
      "provenance": []
    },
    "kernelspec": {
      "display_name": "dfine",
      "language": "python",
      "name": "python3"
    },
    "language_info": {
      "codemirror_mode": {
        "name": "ipython",
        "version": 3
      },
      "file_extension": ".py",
      "mimetype": "text/x-python",
      "name": "python",
      "nbconvert_exporter": "python",
      "pygments_lexer": "ipython3",
      "version": "3.11.9"
    }
  },
  "nbformat": 4,
  "nbformat_minor": 0
}
